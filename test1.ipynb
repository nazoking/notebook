{
 "cells": [
  {
   "cell_type": "code",
   "execution_count": 4,
   "metadata": {
    "collapsed": true
   },
   "outputs": [],
   "source": [
    "import numpy\n",
    "\n",
    "def get_rating_error(r, p, q):\n",
    "    return r - numpy.dot(p, q)\n",
    "\n",
    "\n",
    "def get_error(R, P, Q, beta):\n",
    "    error = 0.0\n",
    "    for i in xrange(len(R)):\n",
    "        for j in xrange(len(R[i])):\n",
    "            if R[i][j] == 0:\n",
    "                continue\n",
    "            error += pow(get_rating_error(R[i][j], P[:,i], Q[:,j]), 2)\n",
    "    error += beta/2.0 * (numpy.linalg.norm(P) + numpy.linalg.norm(Q))\n",
    "    return error\n",
    "\n",
    "\n",
    "def matrix_factorization(R, K, steps=5000, alpha=0.0002, beta=0.02, threshold=0.001):\n",
    "    P = numpy.random.rand(K, len(R))\n",
    "    Q = numpy.random.rand(K, len(R[0]))\n",
    "    for step in xrange(steps):\n",
    "        for i in xrange(len(R)):\n",
    "            for j in xrange(len(R[i])):\n",
    "                if R[i][j] == 0:\n",
    "                    continue\n",
    "                err = get_rating_error(R[i][j], P[:, i], Q[:, j])\n",
    "                for k in xrange(K):\n",
    "                    P[k][i] += alpha * (2 * err * Q[k][j])\n",
    "                    Q[k][j] += alpha * (2 * err * P[k][i])\n",
    "        error = get_error(R, P, Q, beta)\n",
    "        if error < threshold:\n",
    "            break\n",
    "    return P, Q\n",
    "\n",
    "def run(arr):\n",
    "    R = numpy.array(arr)\n",
    "    nP, nQ = matrix_factorization(R, 2)\n",
    "    nR = numpy.dot(nP.T, nQ)\n",
    "    return nR"
   ]
  },
  {
   "cell_type": "code",
   "execution_count": 5,
   "metadata": {
    "collapsed": false
   },
   "outputs": [
    {
     "data": {
      "text/plain": [
       "array([[ 5.01347867,  2.96047787,  4.78379576,  0.9962353 ],\n",
       "       [ 3.98424327,  2.36170872,  3.98138988,  0.99567471],\n",
       "       [ 1.06547431,  0.84012554,  5.22911792,  4.99348633],\n",
       "       [ 0.96598226,  0.73799135,  4.26789134,  3.9903452 ],\n",
       "       [ 1.75788087,  1.20093401,  4.9301311 ,  4.04170481]])"
      ]
     },
     "execution_count": 5,
     "metadata": {},
     "output_type": "execute_result"
    }
   ],
   "source": [
    "run([\n",
    "        [5, 3, 0, 1],\n",
    "        [4, 0, 0, 1],\n",
    "        [1, 1, 0, 5],\n",
    "        [1, 0, 0, 4],\n",
    "        [0, 1, 5, 4],])"
   ]
  },
  {
   "cell_type": "code",
   "execution_count": 9,
   "metadata": {
    "collapsed": false
   },
   "outputs": [
    {
     "data": {
      "text/plain": [
       "array([[ 5.00610848,  2.98746251,  2.90368955,  0.99791358],\n",
       "       [ 3.99327038,  2.39693069,  2.53852928,  0.99660452],\n",
       "       [ 1.02382489,  0.94244603,  5.89796948,  4.98985345],\n",
       "       [ 0.98799364,  0.85220314,  4.77528244,  3.98849281],\n",
       "       [ 1.35878483,  1.07177652,  4.96312859,  4.0378429 ]])"
      ]
     },
     "execution_count": 9,
     "metadata": {},
     "output_type": "execute_result"
    }
   ],
   "source": [
    "run([\n",
    "        [5, 3, 0, 1],\n",
    "        [4, 0, 0, 1],\n",
    "        [1, 1, 0, 5],\n",
    "        [1, 0, 0, 4],\n",
    "        [0, 1, 5, 4],])"
   ]
  },
  {
   "cell_type": "code",
   "execution_count": 7,
   "metadata": {
    "collapsed": false
   },
   "outputs": [
    {
     "data": {
      "text/plain": [
       "array([[ 0.96638012,  1.02773385,  0.60218722,  1.00084791],\n",
       "       [ 1.00033679,  0.99574272,  0.69257695,  0.98667152],\n",
       "       [ 0.99503995,  1.00643262,  0.67268328,  0.99301253],\n",
       "       [ 1.03225484,  0.98894446,  0.75388288,  0.99020803],\n",
       "       [ 1.16320801,  0.98872876,  0.97727452,  1.02477022]])"
      ]
     },
     "execution_count": 7,
     "metadata": {},
     "output_type": "execute_result"
    }
   ],
   "source": [
    "run([\n",
    "        [1, 1, 0, 1],\n",
    "        [1, 0, 0, 1],\n",
    "        [1, 1, 0, 1],\n",
    "        [1, 0, 0, 1],\n",
    "        [0, 1, 1, 1],])"
   ]
  },
  {
   "cell_type": "code",
   "execution_count": 8,
   "metadata": {
    "collapsed": false
   },
   "outputs": [
    {
     "data": {
      "text/plain": [
       "array([[ 1.00447678,  0.98317273,  0.83401255,  1.00655297],\n",
       "       [ 1.00490395,  1.03057521,  0.98956879,  1.00806667],\n",
       "       [ 0.98585279,  1.0163281 ,  0.98828501,  0.9890778 ],\n",
       "       [ 1.00144876,  0.99339501,  0.87505543,  1.00382338],\n",
       "       [ 0.98897678,  1.01769269,  0.98528597,  0.99216912]])"
      ]
     },
     "execution_count": 8,
     "metadata": {},
     "output_type": "execute_result"
    }
   ],
   "source": [
    "run([\n",
    "        [1, 1, 0, 1],\n",
    "        [1, 0, 0, 1],\n",
    "        [1, 1, 0, 1],\n",
    "        [1, 0, 0, 1],\n",
    "        [0, 1, 1, 1],])"
   ]
  },
  {
   "cell_type": "code",
   "execution_count": 10,
   "metadata": {
    "collapsed": false
   },
   "outputs": [
    {
     "data": {
      "text/plain": [
       "array([[ 1.86316154,  0.77136148,  1.48672633,  1.27141375],\n",
       "       [ 1.83237253,  0.72158373,  1.44923807,  1.17821885],\n",
       "       [ 1.05342675,  1.05189966,  1.05543189,  1.91918692],\n",
       "       [ 1.23782082,  0.98018567,  1.15091529,  1.7564131 ],\n",
       "       [ 2.45222145,  1.13350446,  1.99803515,  1.90392693]])"
      ]
     },
     "execution_count": 10,
     "metadata": {},
     "output_type": "execute_result"
    }
   ],
   "source": [
    "run([\n",
    "        [2, 1, 0, 1],\n",
    "        [2, 0, 0, 1],\n",
    "        [1, 1, 0, 2],\n",
    "        [1, 0, 0, 2],\n",
    "        [0, 1, 2, 2],])"
   ]
  },
  {
   "cell_type": "code",
   "execution_count": 11,
   "metadata": {
    "collapsed": false
   },
   "outputs": [
    {
     "data": {
      "text/plain": [
       "array([[ 1.5100174 ,  0.94407474,  1.40591217,  1.51855786],\n",
       "       [ 1.51426648,  0.89818942,  1.42034892,  1.48349313],\n",
       "       [ 1.5362884 ,  0.92606294,  1.43780714,  1.51707035],\n",
       "       [ 1.42915028,  1.05869029,  1.29495771,  1.57108892],\n",
       "       [ 2.09266312,  1.09624941,  1.99418275,  1.93261528]])"
      ]
     },
     "execution_count": 11,
     "metadata": {},
     "output_type": "execute_result"
    }
   ],
   "source": [
    "run([\n",
    "        [2, 1, 0, 1],\n",
    "        [2, 0, 0, 1],\n",
    "        [1, 1, 0, 2],\n",
    "        [1, 0, 0, 2],\n",
    "        [0, 1, 2, 2],])"
   ]
  },
  {
   "cell_type": "code",
   "execution_count": null,
   "metadata": {
    "collapsed": true
   },
   "outputs": [],
   "source": []
  }
 ],
 "metadata": {
  "kernelspec": {
   "display_name": "Python 2",
   "language": "python",
   "name": "python2"
  },
  "language_info": {
   "codemirror_mode": {
    "name": "ipython",
    "version": 2
   },
   "file_extension": ".py",
   "mimetype": "text/x-python",
   "name": "python",
   "nbconvert_exporter": "python",
   "pygments_lexer": "ipython2",
   "version": "2.7.12"
  }
 },
 "nbformat": 4,
 "nbformat_minor": 0
}
